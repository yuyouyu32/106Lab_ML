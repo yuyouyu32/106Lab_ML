{
 "cells": [
  {
   "cell_type": "code",
   "execution_count": 27,
   "metadata": {},
   "outputs": [],
   "source": [
    "import os\n",
    "import re\n",
    "from sklearn.metrics import r2_score"
   ]
  },
  {
   "cell_type": "code",
   "execution_count": 36,
   "metadata": {},
   "outputs": [
    {
     "name": "stdout",
     "output_type": "stream",
     "text": [
      "0.5539467132679881\n",
      "0.6252022160341904\n",
      "0.7698518484836079\n"
     ]
    }
   ],
   "source": [
    "files = os.listdir('./predict_Y/')\n",
    "R2_result = {}\n",
    "for file in files:\n",
    "    file_name = file.partition('.')[0]\n",
    "    R2_result[file_name] = {}\n",
    "    with open(f'./predict_Y/{file}', 'r') as f:\n",
    "        txt = f.read().split('\\n')\n",
    "    temp_data = {}\n",
    "    for line in txt:\n",
    "        if line.startswith('Prediction RMSE and MaxAE'):\n",
    "            continue\n",
    "        if line.startswith('Predictions (y,pred,y-pred)'):\n",
    "            dim = f'{line[-1]}D'\n",
    "            temp_data[dim] = []\n",
    "            continue\n",
    "        if line != '':\n",
    "            temp_data[dim].append(line)\n",
    "    for key,values in temp_data.items():\n",
    "        y_array = []\n",
    "        y_pred_array = []\n",
    "        diff_array = []\n",
    "        for value_line in values:\n",
    "            y, y_pred, diff = list(map(float, re.sub(' +', ',', value_line.strip()).split(',')))\n",
    "            y_array.append(y)\n",
    "            y_pred_array.append(y_pred)\n",
    "            diff_array.append(diff)\n",
    "        R2_result[file_name][key] = r2_score(y_array, y_pred_array)\n",
    "\n",
    "            \n"
   ]
  },
  {
   "cell_type": "code",
   "execution_count": null,
   "metadata": {},
   "outputs": [],
   "source": []
  }
 ],
 "metadata": {
  "kernelspec": {
   "display_name": "Python 3.8.10 64-bit ('3.8.10')",
   "language": "python",
   "name": "python3"
  },
  "language_info": {
   "codemirror_mode": {
    "name": "ipython",
    "version": 3
   },
   "file_extension": ".py",
   "mimetype": "text/x-python",
   "name": "python",
   "nbconvert_exporter": "python",
   "pygments_lexer": "ipython3",
   "version": "3.8.10"
  },
  "orig_nbformat": 4,
  "vscode": {
   "interpreter": {
    "hash": "60598a519b963e9f4a62b1d51c308354aa949236fc559ec0c5d4b908f592516f"
   }
  }
 },
 "nbformat": 4,
 "nbformat_minor": 2
}
