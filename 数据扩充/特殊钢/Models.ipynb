{
 "cells": [
  {
   "cell_type": "code",
   "execution_count": 1,
   "metadata": {},
   "outputs": [
    {
     "name": "stderr",
     "output_type": "stream",
     "text": [
      "/Users/yuyouyu/.pyenv/versions/3.8.10/lib/python3.8/site-packages/xgboost/compat.py:36: FutureWarning: pandas.Int64Index is deprecated and will be removed from pandas in a future version. Use pandas.Index with the appropriate dtype instead.\n",
      "  from pandas import MultiIndex, Int64Index\n"
     ]
    }
   ],
   "source": [
    "import os\n",
    "import numpy as np\n",
    "import pandas as pd\n",
    "from sklearn.model_selection import train_test_split\n",
    "from sklearn.preprocessing import MinMaxScaler, StandardScaler\n",
    "from xgboost import XGBRegressor\n",
    "from sklearn.metrics import r2_score"
   ]
  },
  {
   "cell_type": "code",
   "execution_count": 2,
   "metadata": {},
   "outputs": [],
   "source": [
    "data_files = os.listdir('./Data')\n",
    "len\n",
    "models = {}\n",
    "scores = {}\n",
    "for file in data_files:\n",
    "    if file == '.DS_Store':\n",
    "        continue\n",
    "    target_name = file.strip('.csv')\n",
    "    model = XGBRegressor(max_depth=100, learning_rate=0.1, n_estimators=100)\n",
    "\n",
    "    raw = pd.read_csv(f'./Data/{file}', encoding = 'utf-8')\n",
    "    targets = raw.loc[:, target_name].values\n",
    "    features = raw.drop(columns=target_name).values\n",
    "    x_train, x_test, y_train, y_test = train_test_split(features, targets, test_size=0.1, random_state=42)\n",
    "    model.fit(x_train, y_train)\n",
    "    y_pred = model.predict(x_test)\n",
    "    scores[target_name] = r2_score(y_test, model.predict(x_test))\n",
    "    model.fit(features, targets)\n",
    "    models[target_name] = model"
   ]
  },
  {
   "cell_type": "code",
   "execution_count": 3,
   "metadata": {},
   "outputs": [
    {
     "data": {
      "text/plain": [
       "{'剪切模量': 0.7250449484100525,\n",
       " '热导率': 0.9406875083045911,\n",
       " '断面收缩率': 0.5934034655238555,\n",
       " '比热': 0.3626555551955294,\n",
       " '晶状断口百分比': 0.03205827484454804,\n",
       " '伸长率10': 0.5186076604394383,\n",
       " '冲击吸收能': 0.6410188256316773,\n",
       " '抗拉强度': 0.7573097109231869,\n",
       " '旋转弯曲疲劳极限': 0.526056786006982,\n",
       " '泊松比': 0.7756416188932675,\n",
       " '抗剪强度': 0.7366717053056129,\n",
       " '硬度': 0.36049215795667644,\n",
       " '密度': -2.8451385747966635,\n",
       " '冲击韧性': 0.5742402036510954,\n",
       " '弹性模量': 0.8324397287100359,\n",
       " '线膨胀系数': 0.8477484199788531,\n",
       " '伸长率5': 0.5153538865134062,\n",
       " '屈服点': 0.7769074241373652,\n",
       " '热扩散率': 0.5066789473792632,\n",
       " '电阻率': 0.7329129763706783}"
      ]
     },
     "execution_count": 3,
     "metadata": {},
     "output_type": "execute_result"
    }
   ],
   "source": [
    "scores"
   ]
  },
  {
   "cell_type": "code",
   "execution_count": 5,
   "metadata": {},
   "outputs": [],
   "source": [
    "features = pd.read_csv('特殊钢-全链条计算数据_插值_中位数版20w.csv', encoding='utf-8').values\n",
    "out_csv = pd.read_csv('特殊钢-全链条计算数据_插值_中位数版20w.csv', encoding='utf-8')\n",
    "for target_name in models:\n",
    "    model = models[target_name]\n",
    "    y_pred = model.predict(features)\n",
    "    out_csv[target_name] = y_pred\n",
    "\n"
   ]
  },
  {
   "cell_type": "code",
   "execution_count": 6,
   "metadata": {},
   "outputs": [],
   "source": [
    "out_csv.to_csv('特殊钢-全链条计算数据_插值_中位数版_targets.csv', encoding='utf-8', float_format='%.4f')"
   ]
  }
 ],
 "metadata": {
  "kernelspec": {
   "display_name": "Python 3.8.10 64-bit ('3.8.10')",
   "language": "python",
   "name": "python3"
  },
  "language_info": {
   "codemirror_mode": {
    "name": "ipython",
    "version": 3
   },
   "file_extension": ".py",
   "mimetype": "text/x-python",
   "name": "python",
   "nbconvert_exporter": "python",
   "pygments_lexer": "ipython3",
   "version": "3.8.10"
  },
  "orig_nbformat": 4,
  "vscode": {
   "interpreter": {
    "hash": "60598a519b963e9f4a62b1d51c308354aa949236fc559ec0c5d4b908f592516f"
   }
  }
 },
 "nbformat": 4,
 "nbformat_minor": 2
}
