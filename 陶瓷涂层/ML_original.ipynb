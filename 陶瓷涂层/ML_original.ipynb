{
 "cells": [
  {
   "cell_type": "markdown",
   "metadata": {},
   "source": [
    "# Read Data"
   ]
  },
  {
   "cell_type": "code",
   "execution_count": 1,
   "metadata": {},
   "outputs": [],
   "source": [
    "import numpy as np\n",
    "import pandas as pd\n",
    "from sklearn.model_selection import train_test_split"
   ]
  },
  {
   "cell_type": "code",
   "execution_count": 2,
   "metadata": {},
   "outputs": [],
   "source": [
    "def read_data(normal_target=True):\n",
    "    raw = pd.read_csv('./all_data.csv')\n",
    "    if normal_target:\n",
    "        max_min_scaler = lambda x: (x - np.min(x)) / (np.max(x) - np.min(x))\n",
    "    else:\n",
    "        max_min_scaler = lambda x: (x - np.min(x)) / (np.max(x) - np.min(x)) if x.name not in {'剥落面积百分比'} else x     \n",
    "    raw = raw.apply(max_min_scaler)\n",
    "    return raw\n",
    "original_data = read_data(normal_target=False)\n",
    "target = original_data.values[:, -1]\n",
    "original_data = original_data.drop(columns=['剥落面积百分比', '喷涂距离(mm)', '载气', '氢气(SPLM)', '氩气(SPLM)']).values"
   ]
  },
  {
   "cell_type": "code",
   "execution_count": 3,
   "metadata": {},
   "outputs": [],
   "source": [
    "dataloader = {'剥落面积百分比': []}\n",
    "random_seeds = [1,7,15,36,21,2,32,42,25,18]\n",
    "for random_seed in random_seeds:\n",
    "    dataloader['剥落面积百分比'].append(train_test_split(original_data, target, test_size=0.33, random_state=random_seed, shuffle=True))\n",
    "result = {}"
   ]
  },
  {
   "cell_type": "markdown",
   "metadata": {},
   "source": [
    "# SVR"
   ]
  },
  {
   "cell_type": "code",
   "execution_count": 16,
   "metadata": {},
   "outputs": [
    {
     "name": "stdout",
     "output_type": "stream",
     "text": [
      "{'剥落面积百分比': {'kfolds': [0.4721149215720778, 0.749089657613509, 0.8628648319958342, 0.8535086774465285, 0.8426200183839707, 0.7654022263952412, 0.81222148552838, 0.8732835178988049, 0.766123903301073, 0.785767882113517], 'ave': 0.7782997122248937}}\n"
     ]
    }
   ],
   "source": [
    "from sklearn.svm import SVR\n",
    "model_name = 'SVR'\n",
    "result[model_name] = {}\n",
    "def svrHelper(target_name, x_train, x_test, y_train, y_test):\n",
    "    model = SVR(C=47)\n",
    "    model.fit(x_train, y_train)\n",
    "    return model.score(x_test, y_test)\n",
    "for target_name in dataloader:\n",
    "    result[model_name][target_name] = {'kfolds': []}\n",
    "    for fold in dataloader[target_name]:\n",
    "        result[model_name][target_name]['kfolds'].append(svrHelper(target_name, *fold))\n",
    "    result[model_name][target_name]['ave'] = np.mean(result[model_name][target_name]['kfolds'])\n",
    "print(result['SVR'])"
   ]
  },
  {
   "cell_type": "markdown",
   "metadata": {},
   "source": [
    "# RFR"
   ]
  },
  {
   "cell_type": "code",
   "execution_count": 5,
   "metadata": {},
   "outputs": [
    {
     "name": "stdout",
     "output_type": "stream",
     "text": [
      "{'剥落面积百分比': {'kfolds': [0.7550593464768459, 0.5540893833657008, 0.7023889979348472, 0.7023517221057836, 0.7273591486727636, 0.6176172010913391, 0.7374708564700554, 0.4812858375874167, 0.8133869973030967, 0.7224466488284393], 'ave': 0.6813456139836289}}\n"
     ]
    }
   ],
   "source": [
    "from sklearn.ensemble import RandomForestRegressor\n",
    "model_name = 'RF'\n",
    "result[model_name] = {}\n",
    "def rfrHelper(target_name, x_train, x_test, y_train, y_test):\n",
    "    reg1 = RandomForestRegressor(n_estimators=160)\n",
    "    reg1.fit(x_train, y_train)\n",
    "    return reg1.score(x_test, y_test)\n",
    "for target_name in dataloader:\n",
    "    result[model_name][target_name] = {'kfolds': []}\n",
    "    for fold in dataloader[target_name]:\n",
    "        result[model_name][target_name]['kfolds'].append(rfrHelper(target_name, *fold))\n",
    "    result[model_name][target_name]['ave'] = np.mean(result[model_name][target_name]['kfolds'])\n",
    "print(result['RF'])"
   ]
  },
  {
   "cell_type": "markdown",
   "metadata": {},
   "source": [
    "# Ridge"
   ]
  },
  {
   "cell_type": "code",
   "execution_count": 6,
   "metadata": {},
   "outputs": [
    {
     "name": "stdout",
     "output_type": "stream",
     "text": [
      "{'剥落面积百分比': {'kfolds': [0.4318229989448148, 0.5441238757708674, 0.42201925548338703, 0.5230971545746919, 0.4489328453199978, 0.4961212711923133, 0.5086664330071498, 0.4560712896369272, 0.4782295684785953, 0.48848005791257176], 'ave': 0.47975647503213165}}\n"
     ]
    }
   ],
   "source": [
    "from sklearn.linear_model import Ridge\n",
    "model_name = 'Ridge'\n",
    "result[model_name] = {}\n",
    "def ridgeHelper(target_name, x_train, x_test, y_train, y_test):\n",
    "    ridge = Ridge(alpha=0.5)\n",
    "    ridge.fit(x_train, y_train)\n",
    "    return ridge.score(x_test, y_test)\n",
    "for target_name in dataloader:\n",
    "    result[model_name][target_name] = {'kfolds': []}\n",
    "    for fold in dataloader[target_name]:\n",
    "        result[model_name][target_name]['kfolds'].append(ridgeHelper(target_name, *fold))\n",
    "    result[model_name][target_name]['ave'] = np.mean(result[model_name][target_name]['kfolds']) \n",
    "print(result['Ridge'])"
   ]
  },
  {
   "cell_type": "markdown",
   "metadata": {},
   "source": [
    "# Lasso"
   ]
  },
  {
   "cell_type": "code",
   "execution_count": 7,
   "metadata": {},
   "outputs": [
    {
     "name": "stdout",
     "output_type": "stream",
     "text": [
      "{'剥落面积百分比': {'kfolds': [0.43633928477642714, 0.5312623584665136, 0.43386308503522275, 0.5187071979018043, 0.4525463831055061, 0.5018941220193447, 0.48904416029367215, 0.4583038231229878, 0.48323599985304244, 0.4484169277228287], 'ave': 0.4753613342297349}}\n"
     ]
    }
   ],
   "source": [
    "from sklearn.linear_model import Lasso\n",
    "model_name = 'Lasso'\n",
    "result[model_name] = {}\n",
    "def LassoHelper(target_name, x_train, x_test, y_train, y_test):\n",
    "    Lasso1 = Lasso(alpha=0.1)\n",
    "    Lasso1.fit(x_train, y_train)\n",
    "    return Lasso1.score(x_test, y_test)\n",
    "for target_name in dataloader:\n",
    "    result[model_name][target_name] = {'kfolds': []}\n",
    "    for fold in dataloader[target_name]:\n",
    "        result[model_name][target_name]['kfolds'].append(LassoHelper(target_name, *fold))\n",
    "    result[model_name][target_name]['ave'] = np.mean(result[model_name][target_name]['kfolds']) \n",
    "print(result['Lasso'])   "
   ]
  },
  {
   "cell_type": "markdown",
   "metadata": {},
   "source": [
    "# SGD"
   ]
  },
  {
   "cell_type": "code",
   "execution_count": 8,
   "metadata": {},
   "outputs": [
    {
     "name": "stdout",
     "output_type": "stream",
     "text": [
      "{'剥落面积百分比': {'kfolds': [0.4439485453818772, 0.5577208791784194, 0.42729028136799074, 0.5160268805180865, 0.45782965816668486, 0.4671228632797325, 0.5231517470154873, 0.41553761556676017, 0.4886300408410924, 0.5137463163757146], 'ave': 0.48110048276918455}}\n"
     ]
    }
   ],
   "source": [
    "from sklearn.linear_model import SGDRegressor\n",
    "from sklearn.pipeline import make_pipeline\n",
    "from sklearn.preprocessing import StandardScaler\n",
    "model_name = 'SGD'\n",
    "result[model_name] = {}\n",
    "def SGDHelper(target_name, x_train, x_test, y_train, y_test):\n",
    "    reg = make_pipeline(StandardScaler(), SGDRegressor(max_iter=1000, tol=1e-3))\n",
    "    reg.fit(x_train, y_train)\n",
    "    return reg.score(x_test, y_test)\n",
    "for target_name in dataloader:\n",
    "    result[model_name][target_name] = {'kfolds': []}\n",
    "    for fold in dataloader[target_name]:\n",
    "        result[model_name][target_name]['kfolds'].append(SGDHelper(target_name, *fold))\n",
    "    result[model_name][target_name]['ave'] = np.mean(result[model_name][target_name]['kfolds'])\n",
    "print(result['SGD'])  \n"
   ]
  },
  {
   "cell_type": "markdown",
   "metadata": {},
   "source": [
    "#  Decison Tree"
   ]
  },
  {
   "cell_type": "code",
   "execution_count": 9,
   "metadata": {},
   "outputs": [
    {
     "name": "stdout",
     "output_type": "stream",
     "text": [
      "{'剥落面积百分比': {'kfolds': [0.7756854325096938, 0.22956348086217182, 0.18993546225035296, 0.7072487699119134, 0.6562396701537565, 0.521359522015911, 0.6445529933816613, -0.1201706848600097, 0.7302161773783882, 0.5281937697061131], 'ave': 0.48628245933099523}}\n"
     ]
    }
   ],
   "source": [
    "from sklearn import tree\n",
    "model_name = 'Decision Tree'\n",
    "result[model_name] = {}\n",
    "def DTHelper(target_name, x_train, x_test, y_train, y_test):\n",
    "    reg = tree.DecisionTreeRegressor()\n",
    "    reg.fit(x_train, y_train)\n",
    "    return reg.score(x_test, y_test)\n",
    "for target_name in dataloader:\n",
    "    result[model_name][target_name] = {'kfolds': []}\n",
    "    for fold in dataloader[target_name]:\n",
    "        result[model_name][target_name]['kfolds'].append(DTHelper(target_name, *fold))\n",
    "    result[model_name][target_name]['ave'] = np.mean(result[model_name][target_name]['kfolds'])\n",
    "print(result['Decision Tree']) "
   ]
  },
  {
   "cell_type": "markdown",
   "metadata": {},
   "source": [
    "# XGBoost"
   ]
  },
  {
   "cell_type": "code",
   "execution_count": 10,
   "metadata": {},
   "outputs": [
    {
     "name": "stdout",
     "output_type": "stream",
     "text": [
      "{'剥落面积百分比': {'kfolds': [0.6513834179032868, 0.5810249623784707, 0.6471328015345708, 0.7081821978841345, 0.7535651467783457, 0.6046822886313392, 0.6752499568305588, 0.3358647914663877, 0.8455437900449065, 0.7045510922150481], 'ave': 0.650718044566705}}\n"
     ]
    }
   ],
   "source": [
    "from xgboost import XGBRegressor\n",
    "from sklearn.metrics import r2_score\n",
    "model_name = 'XGboost'\n",
    "result[model_name] = {}\n",
    "def xgboostHelper(target_name, x_train, x_test, y_train, y_test):\n",
    "    model = XGBRegressor(max_depth=500, learning_rate=0.01, n_estimators=500, objective=\"reg:squarederror\")\n",
    "    model.fit(x_train, y_train)\n",
    "    return r2_score(y_test, model.predict(x_test))\n",
    "for target_name in dataloader:\n",
    "    result[model_name][target_name] = {'kfolds': []}\n",
    "    for fold in dataloader[target_name]:\n",
    "        result[model_name][target_name]['kfolds'].append(xgboostHelper(target_name, *fold))\n",
    "    result[model_name][target_name]['ave'] = np.mean(result[model_name][target_name]['kfolds'])\n",
    "print(result['XGboost']) "
   ]
  },
  {
   "cell_type": "code",
   "execution_count": 11,
   "metadata": {},
   "outputs": [],
   "source": [
    "import json\n",
    "json.dump(result,open('./result.json','w'), ensure_ascii = False)"
   ]
  }
 ],
 "metadata": {
  "interpreter": {
   "hash": "c973a33f70f20d8e09ff4fa82f9f68656047bf3a47628ffb9215fed10cd31254"
  },
  "kernelspec": {
   "display_name": "Python 3.8.12 64-bit ('3.8.12': pyenv)",
   "language": "python",
   "name": "python3"
  },
  "language_info": {
   "codemirror_mode": {
    "name": "ipython",
    "version": 3
   },
   "file_extension": ".py",
   "mimetype": "text/x-python",
   "name": "python",
   "nbconvert_exporter": "python",
   "pygments_lexer": "ipython3",
   "version": "3.8.12"
  },
  "orig_nbformat": 4
 },
 "nbformat": 4,
 "nbformat_minor": 2
}
