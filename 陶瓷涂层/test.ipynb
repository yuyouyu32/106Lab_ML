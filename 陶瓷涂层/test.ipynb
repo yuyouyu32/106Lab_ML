{
 "cells": [
  {
   "cell_type": "code",
   "execution_count": 1,
   "metadata": {},
   "outputs": [],
   "source": [
    "import numpy as np\n",
    "import pandas as pd\n",
    "from sklearn.preprocessing import MinMaxScaler, StandardScaler"
   ]
  },
  {
   "cell_type": "code",
   "execution_count": 2,
   "metadata": {},
   "outputs": [
    {
     "data": {
      "text/html": [
       "<div>\n",
       "<style scoped>\n",
       "    .dataframe tbody tr th:only-of-type {\n",
       "        vertical-align: middle;\n",
       "    }\n",
       "\n",
       "    .dataframe tbody tr th {\n",
       "        vertical-align: top;\n",
       "    }\n",
       "\n",
       "    .dataframe thead th {\n",
       "        text-align: right;\n",
       "    }\n",
       "</style>\n",
       "<table border=\"1\" class=\"dataframe\">\n",
       "  <thead>\n",
       "    <tr style=\"text-align: right;\">\n",
       "      <th></th>\n",
       "      <th>热循环次数</th>\n",
       "      <th>电压(V)</th>\n",
       "      <th>电流(A)</th>\n",
       "      <th>功率(KW)</th>\n",
       "      <th>厚度(μm)</th>\n",
       "      <th>氩气(SPLM)</th>\n",
       "      <th>氢气(SPLM)</th>\n",
       "      <th>载气</th>\n",
       "      <th>送粉量(g/min)</th>\n",
       "      <th>喷涂距离(mm)</th>\n",
       "      <th>剥落面积百分比</th>\n",
       "    </tr>\n",
       "  </thead>\n",
       "  <tbody>\n",
       "    <tr>\n",
       "      <th>count</th>\n",
       "      <td>105.000000</td>\n",
       "      <td>105.000000</td>\n",
       "      <td>105.000000</td>\n",
       "      <td>105.000000</td>\n",
       "      <td>105.000000</td>\n",
       "      <td>105.0</td>\n",
       "      <td>105.0</td>\n",
       "      <td>105.0</td>\n",
       "      <td>105.000000</td>\n",
       "      <td>105.0</td>\n",
       "      <td>105.000000</td>\n",
       "    </tr>\n",
       "    <tr>\n",
       "      <th>mean</th>\n",
       "      <td>210.647619</td>\n",
       "      <td>67.009524</td>\n",
       "      <td>600.476190</td>\n",
       "      <td>40.270476</td>\n",
       "      <td>289.428571</td>\n",
       "      <td>35.0</td>\n",
       "      <td>5.0</td>\n",
       "      <td>300.0</td>\n",
       "      <td>25.809524</td>\n",
       "      <td>120.0</td>\n",
       "      <td>7.039333</td>\n",
       "    </tr>\n",
       "    <tr>\n",
       "      <th>std</th>\n",
       "      <td>130.111341</td>\n",
       "      <td>0.814475</td>\n",
       "      <td>40.723763</td>\n",
       "      <td>3.217468</td>\n",
       "      <td>86.988379</td>\n",
       "      <td>0.0</td>\n",
       "      <td>0.0</td>\n",
       "      <td>0.0</td>\n",
       "      <td>1.850651</td>\n",
       "      <td>0.0</td>\n",
       "      <td>4.979992</td>\n",
       "    </tr>\n",
       "    <tr>\n",
       "      <th>min</th>\n",
       "      <td>26.000000</td>\n",
       "      <td>66.000000</td>\n",
       "      <td>550.000000</td>\n",
       "      <td>36.300000</td>\n",
       "      <td>200.000000</td>\n",
       "      <td>35.0</td>\n",
       "      <td>5.0</td>\n",
       "      <td>300.0</td>\n",
       "      <td>25.000000</td>\n",
       "      <td>120.0</td>\n",
       "      <td>0.000000</td>\n",
       "    </tr>\n",
       "    <tr>\n",
       "      <th>25%</th>\n",
       "      <td>110.000000</td>\n",
       "      <td>66.000000</td>\n",
       "      <td>550.000000</td>\n",
       "      <td>36.300000</td>\n",
       "      <td>200.000000</td>\n",
       "      <td>35.0</td>\n",
       "      <td>5.0</td>\n",
       "      <td>300.0</td>\n",
       "      <td>25.000000</td>\n",
       "      <td>120.0</td>\n",
       "      <td>3.302424</td>\n",
       "    </tr>\n",
       "    <tr>\n",
       "      <th>50%</th>\n",
       "      <td>200.000000</td>\n",
       "      <td>67.000000</td>\n",
       "      <td>600.000000</td>\n",
       "      <td>40.200000</td>\n",
       "      <td>300.000000</td>\n",
       "      <td>35.0</td>\n",
       "      <td>5.0</td>\n",
       "      <td>300.0</td>\n",
       "      <td>25.000000</td>\n",
       "      <td>120.0</td>\n",
       "      <td>7.135727</td>\n",
       "    </tr>\n",
       "    <tr>\n",
       "      <th>75%</th>\n",
       "      <td>302.000000</td>\n",
       "      <td>68.000000</td>\n",
       "      <td>650.000000</td>\n",
       "      <td>44.200000</td>\n",
       "      <td>300.000000</td>\n",
       "      <td>35.0</td>\n",
       "      <td>5.0</td>\n",
       "      <td>300.0</td>\n",
       "      <td>25.000000</td>\n",
       "      <td>120.0</td>\n",
       "      <td>10.150110</td>\n",
       "    </tr>\n",
       "    <tr>\n",
       "      <th>max</th>\n",
       "      <td>505.000000</td>\n",
       "      <td>68.000000</td>\n",
       "      <td>650.000000</td>\n",
       "      <td>44.200000</td>\n",
       "      <td>430.000000</td>\n",
       "      <td>35.0</td>\n",
       "      <td>5.0</td>\n",
       "      <td>300.0</td>\n",
       "      <td>30.000000</td>\n",
       "      <td>120.0</td>\n",
       "      <td>23.890330</td>\n",
       "    </tr>\n",
       "  </tbody>\n",
       "</table>\n",
       "</div>"
      ],
      "text/plain": [
       "            热循环次数       电压(V)       电流(A)      功率(KW)      厚度(μm)  氩气(SPLM)  \\\n",
       "count  105.000000  105.000000  105.000000  105.000000  105.000000     105.0   \n",
       "mean   210.647619   67.009524  600.476190   40.270476  289.428571      35.0   \n",
       "std    130.111341    0.814475   40.723763    3.217468   86.988379       0.0   \n",
       "min     26.000000   66.000000  550.000000   36.300000  200.000000      35.0   \n",
       "25%    110.000000   66.000000  550.000000   36.300000  200.000000      35.0   \n",
       "50%    200.000000   67.000000  600.000000   40.200000  300.000000      35.0   \n",
       "75%    302.000000   68.000000  650.000000   44.200000  300.000000      35.0   \n",
       "max    505.000000   68.000000  650.000000   44.200000  430.000000      35.0   \n",
       "\n",
       "       氢气(SPLM)     载气  送粉量(g/min)  喷涂距离(mm)     剥落面积百分比  \n",
       "count     105.0  105.0  105.000000     105.0  105.000000  \n",
       "mean        5.0  300.0   25.809524     120.0    7.039333  \n",
       "std         0.0    0.0    1.850651       0.0    4.979992  \n",
       "min         5.0  300.0   25.000000     120.0    0.000000  \n",
       "25%         5.0  300.0   25.000000     120.0    3.302424  \n",
       "50%         5.0  300.0   25.000000     120.0    7.135727  \n",
       "75%         5.0  300.0   25.000000     120.0   10.150110  \n",
       "max         5.0  300.0   30.000000     120.0   23.890330  "
      ]
     },
     "execution_count": 2,
     "metadata": {},
     "output_type": "execute_result"
    }
   ],
   "source": [
    "train_data = pd.read_csv('./train_data.csv')\n",
    "train_data.describe()"
   ]
  },
  {
   "cell_type": "code",
   "execution_count": 3,
   "metadata": {},
   "outputs": [],
   "source": [
    "def read_data(drop_flag=False):\n",
    "    train_data = pd.read_csv('./train_data.csv')\n",
    "    train_y = train_data.values[:, -1]\n",
    "    if drop_flag:\n",
    "        train_x = train_data.drop(columns=['剥落面积百分比', '喷涂距离(mm)', '载气', '氢气(SPLM)', '氩气(SPLM)']).values\n",
    "    else:\n",
    "        train_x = train_data.drop(columns=['剥落面积百分比']).values\n",
    "    scaler = StandardScaler()\n",
    "    train_x = scaler.fit_transform(train_x)\n",
    "    \n",
    "    test_data = pd.read_csv('./test_data.csv')\n",
    "    test_y = test_data.values[:, -1]\n",
    "    if drop_flag:\n",
    "        test_x = test_data.drop(columns=['剥落面积百分比', '喷涂距离(mm)', '载气', '氢气(SPLM)', '氩气(SPLM)']).values\n",
    "    else:\n",
    "        test_x = test_data.drop(columns=['剥落面积百分比']).values\n",
    "    test_x = scaler.transform(test_x)\n",
    "    return train_x, train_y, test_x, test_y\n",
    "train_x, train_y, test_x, test_y = read_data(drop_flag=False)"
   ]
  },
  {
   "cell_type": "markdown",
   "metadata": {},
   "source": [
    "# Ridge"
   ]
  },
  {
   "cell_type": "code",
   "execution_count": 4,
   "metadata": {},
   "outputs": [
    {
     "name": "stdout",
     "output_type": "stream",
     "text": [
      "-3.968633593929505\n",
      "[11.54827606 12.20747852 14.26748623]\n"
     ]
    }
   ],
   "source": [
    "from sklearn.linear_model import Ridge\n",
    "ridge = Ridge(alpha=12.75)\n",
    "ridge.fit(train_x, train_y)\n",
    "print(ridge.score(test_x, test_y))\n",
    "print(ridge.predict(test_x))"
   ]
  },
  {
   "cell_type": "markdown",
   "metadata": {},
   "source": [
    "# Lasso"
   ]
  },
  {
   "cell_type": "code",
   "execution_count": 5,
   "metadata": {},
   "outputs": [
    {
     "name": "stdout",
     "output_type": "stream",
     "text": [
      "-8.505493158756797\n",
      "[12.35991267 13.09194711 15.37955474]\n"
     ]
    }
   ],
   "source": [
    "from sklearn.linear_model import Lasso\n",
    "model = Lasso(alpha=0.1)\n",
    "model.fit(train_x, train_y)\n",
    "print(model.score(test_x, test_y))\n",
    "print(model.predict(test_x))"
   ]
  },
  {
   "cell_type": "markdown",
   "metadata": {},
   "source": [
    "# ElasticNet"
   ]
  },
  {
   "cell_type": "code",
   "execution_count": 6,
   "metadata": {},
   "outputs": [
    {
     "name": "stdout",
     "output_type": "stream",
     "text": [
      "0.748028288901369\n",
      "[ 9.39320097  9.73929762 10.82084964]\n"
     ]
    }
   ],
   "source": [
    "from sklearn.linear_model import ElasticNet\n",
    "model = ElasticNet(alpha=1, l1_ratio=0.4, max_iter=100000)\n",
    "model.fit(train_x, train_y)\n",
    "print(model.score(test_x, test_y))\n",
    "print(model.predict(test_x))"
   ]
  },
  {
   "cell_type": "markdown",
   "metadata": {},
   "source": [
    "# KNeighborsRegressor"
   ]
  },
  {
   "cell_type": "code",
   "execution_count": 7,
   "metadata": {},
   "outputs": [
    {
     "name": "stdout",
     "output_type": "stream",
     "text": [
      "-0.8115048521574397\n",
      "[9.232152 9.232152 9.232152]\n"
     ]
    }
   ],
   "source": [
    "from sklearn.neighbors import KNeighborsRegressor\n",
    "model = KNeighborsRegressor(n_neighbors=2)\n",
    "model.fit(train_x, train_y)\n",
    "print(model.score(test_x, test_y))\n",
    "print(model.predict(test_x))"
   ]
  },
  {
   "cell_type": "markdown",
   "metadata": {},
   "source": [
    "# SVR"
   ]
  },
  {
   "cell_type": "code",
   "execution_count": 9,
   "metadata": {},
   "outputs": [
    {
     "name": "stdout",
     "output_type": "stream",
     "text": [
      "-1.6365274032720727\n",
      "[9.70684097 9.6633838  8.70102792]\n"
     ]
    }
   ],
   "source": [
    "from sklearn.svm import SVR\n",
    "model = SVR(C=23)\n",
    "model.fit(train_x, train_y)\n",
    "print(model.score(test_x, test_y))\n",
    "print(model.predict(test_x))"
   ]
  },
  {
   "cell_type": "markdown",
   "metadata": {},
   "source": [
    "# GradientBoostingRegressor"
   ]
  },
  {
   "cell_type": "code",
   "execution_count": 10,
   "metadata": {},
   "outputs": [
    {
     "name": "stdout",
     "output_type": "stream",
     "text": [
      "0.2871317468957746\n",
      "[10.38467302  8.67477266 11.1512662 ]\n"
     ]
    }
   ],
   "source": [
    "from sklearn.ensemble import GradientBoostingRegressor\n",
    "model = GradientBoostingRegressor(min_samples_split=7, n_estimators=300)\n",
    "model.fit(train_x, train_y)\n",
    "print(model.score(test_x, test_y))\n",
    "print(model.predict(test_x))"
   ]
  },
  {
   "cell_type": "markdown",
   "metadata": {},
   "source": [
    "# RF"
   ]
  },
  {
   "cell_type": "code",
   "execution_count": 11,
   "metadata": {},
   "outputs": [
    {
     "name": "stdout",
     "output_type": "stream",
     "text": [
      "-0.6007214068606781\n",
      "[9.31971612 9.28635246 9.38002996]\n"
     ]
    }
   ],
   "source": [
    "from sklearn.ensemble import RandomForestRegressor\n",
    "model = RandomForestRegressor(max_features=8, n_estimators=76)\n",
    "model.fit(train_x, train_y)\n",
    "print(model.score(test_x, test_y))\n",
    "print(model.predict(test_x))"
   ]
  },
  {
   "cell_type": "markdown",
   "metadata": {},
   "source": [
    "# XGBoost"
   ]
  },
  {
   "cell_type": "code",
   "execution_count": 13,
   "metadata": {},
   "outputs": [
    {
     "name": "stdout",
     "output_type": "stream",
     "text": [
      "[20:13:43] WARNING: ../src/learner.cc:573: \n",
      "Parameters: { \"enable_categorical\" } might not be used.\n",
      "\n",
      "  This may not be accurate due to some parameters are only used in language bindings but\n",
      "  passed down to XGBoost core.  Or some parameters are not used but slip through this\n",
      "  verification. Please open an issue if you find above cases.\n",
      "\n",
      "\n",
      "-2.088745785251392\n",
      "[8.525156 8.561746 8.680573]\n"
     ]
    }
   ],
   "source": [
    "from xgboost import XGBRegressor\n",
    "from xgboost import XGBRegressor\n",
    "from sklearn.metrics import r2_score\n",
    "model = XGBRegressor(base_score=0.5, booster='gbtree', colsample_bylevel=1,\n",
    "             colsample_bynode=1, colsample_bytree=1, enable_categorical=False,\n",
    "             eta=0.3, gamma=0, gpu_id=-1, importance_type=None,\n",
    "             interaction_constraints='', learning_rate=0.300000012,\n",
    "             max_delta_step=0, max_depth=3, min_child_weight=1,\n",
    "             monotone_constraints='()', n_estimators=210, n_jobs=16,\n",
    "             num_parallel_tree=1, predictor='auto', random_state=0, reg_alpha=0,\n",
    "             reg_lambda=1, scale_pos_weight=1, subsample=1, tree_method='exact',\n",
    "             validate_parameters=1, verbosity=None)\n",
    "model.fit(train_x, train_y)\n",
    "print(r2_score(test_y, model.predict(test_x)))\n",
    "print(model.predict(test_x))"
   ]
  },
  {
   "cell_type": "code",
   "execution_count": 14,
   "metadata": {},
   "outputs": [
    {
     "name": "stdout",
     "output_type": "stream",
     "text": [
      "0.3839586389045452\n",
      "[ 9.930362 10.012045 10.477219]\n"
     ]
    }
   ],
   "source": [
    "from xgboost import XGBRegressor\n",
    "from sklearn.metrics import r2_score\n",
    "model = XGBRegressor(max_depth=3, learning_rate=0.01, n_estimators=700)\n",
    "model.fit(train_x, train_y)\n",
    "print(r2_score(test_y, model.predict(test_x)))\n",
    "print(model.predict(test_x))"
   ]
  }
 ],
 "metadata": {
  "interpreter": {
   "hash": "c973a33f70f20d8e09ff4fa82f9f68656047bf3a47628ffb9215fed10cd31254"
  },
  "kernelspec": {
   "display_name": "Python 3.8.12 64-bit ('3.8.12': pyenv)",
   "language": "python",
   "name": "python3"
  },
  "language_info": {
   "codemirror_mode": {
    "name": "ipython",
    "version": 3
   },
   "file_extension": ".py",
   "mimetype": "text/x-python",
   "name": "python",
   "nbconvert_exporter": "python",
   "pygments_lexer": "ipython3",
   "version": "3.8.12"
  },
  "orig_nbformat": 4
 },
 "nbformat": 4,
 "nbformat_minor": 2
}
