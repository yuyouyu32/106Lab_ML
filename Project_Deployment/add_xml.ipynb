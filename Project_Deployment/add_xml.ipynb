{
 "cells": [
  {
   "cell_type": "code",
   "execution_count": 45,
   "source": [
    "def __indent(elem, level=0):\n",
    "    i = \"\\n\" + level*\"\\t\"\n",
    "    if len(elem):\n",
    "        if not elem.text or not elem.text.strip():\n",
    "            elem.text = i + \"\\t\"\n",
    "        if not elem.tail or not elem.tail.strip():\n",
    "            elem.tail = i\n",
    "        for elem in elem:\n",
    "            __indent(elem, level+1)\n",
    "        if not elem.tail or not elem.tail.strip():\n",
    "            elem.tail = i\n",
    "    else:\n",
    "        if level and (not elem.tail or not elem.tail.strip()):\n",
    "            elem.tail = i"
   ],
   "outputs": [],
   "metadata": {}
  },
  {
   "cell_type": "code",
   "execution_count": 49,
   "source": [
    "def _add_pic_xml(picture_names) -> None:\n",
    "    try:\n",
    "        import xml.etree.cElementTree as ET\n",
    "    except ImportError:\n",
    "        import xml.etree.ElementTree as ET\n",
    "    import os\n",
    "    # Back up result.xml\n",
    "    # os.system('cp ./result.xml ./result_before.xml')  # Linux\n",
    "    os.system('copy .\\\\result.xml .\\\\result_before.xml')    # Win\n",
    "\n",
    "    tree = ET.parse(\"./result.xml\")\n",
    "    root = tree.getroot()\n",
    "    output = tree.find('output')\n",
    "\n",
    "    element_picture = ET.Element('picture')\n",
    "    for picture_name in picture_names:\n",
    "        element_file, element_name, element_url = ET.Element('file'), ET.Element('name'), ET.Element('url')\n",
    "        element_name.text, element_url.text = picture_name, picture_name\n",
    "        element_picture.append(element_file)\n",
    "        element_file.append(element_name)\n",
    "        element_file.append(element_url)\n",
    "    output.append(element_picture)\n",
    "    __indent(root) \n",
    "    # Save \n",
    "    tree.write('result.xml', encoding='utf-8', xml_declaration=True)"
   ],
   "outputs": [],
   "metadata": {}
  },
  {
   "cell_type": "code",
   "execution_count": 59,
   "source": [
    "import json\n",
    "with open('parameters.json','r',encoding='utf8')as fp:\n",
    "    parameters = json.load(fp)\n",
    "parameters['feature_start'] = int(parameters['feature_start'])\n",
    "parameters['feature_end'] = int(parameters['feature_end'])\n",
    "parameters"
   ],
   "outputs": [
    {
     "output_type": "execute_result",
     "data": {
      "text/plain": [
       "{'inputCSV': 'a.csv',\n",
       " 'feature_start': 0,\n",
       " 'feature_end': '8',\n",
       " 'target': 'target',\n",
       " 'single': '1,2,3',\n",
       " 'interactionA': '0,1,2',\n",
       " 'interactionB': '3,4,5'}"
      ]
     },
     "metadata": {},
     "execution_count": 59
    }
   ],
   "metadata": {}
  },
  {
   "cell_type": "code",
   "execution_count": null,
   "source": [],
   "outputs": [],
   "metadata": {}
  }
 ],
 "metadata": {
  "orig_nbformat": 4,
  "language_info": {
   "name": "python",
   "version": "3.8.12",
   "mimetype": "text/x-python",
   "codemirror_mode": {
    "name": "ipython",
    "version": 3
   },
   "pygments_lexer": "ipython3",
   "nbconvert_exporter": "python",
   "file_extension": ".py"
  },
  "kernelspec": {
   "name": "python3",
   "display_name": "Python 3.8.12 64-bit ('3.8.12': pyenv)"
  },
  "interpreter": {
   "hash": "6469256810d439989848f6835e9ebc98b91a4c50ace421cc73345a462bc14f96"
  }
 },
 "nbformat": 4,
 "nbformat_minor": 2
}